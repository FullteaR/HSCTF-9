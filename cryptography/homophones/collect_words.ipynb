{
 "cells": [
  {
   "cell_type": "code",
   "execution_count": 1,
   "id": "1c5274c8",
   "metadata": {},
   "outputs": [],
   "source": [
    "import requests\n",
    "import pandas as pd\n",
    "from tqdm.auto import tqdm\n",
    "import numpy as np"
   ]
  },
  {
   "cell_type": "code",
   "execution_count": 5,
   "id": "3626810b",
   "metadata": {},
   "outputs": [
    {
     "data": {
      "application/vnd.jupyter.widget-view+json": {
       "model_id": "0943386da46542e6a3a24beeb8259a87",
       "version_major": 2,
       "version_minor": 0
      },
      "text/plain": [
       "  0%|          | 0/22 [00:00<?, ?it/s]"
      ]
     },
     "metadata": {},
     "output_type": "display_data"
    }
   ],
   "source": [
    "with open(\"2.txt\",\"w\") as fp:\n",
    "    for i in tqdm(range(1,23)):\n",
    "        url  = \"https://www.englishtools.org/ja/find-english-words-by-length/any/2/{0}\".format(i)\n",
    "        df = pd.read_html(requests.get(url).text)[0]\n",
    "        for word in set(df[\"Word\"]):\n",
    "            fp.write(word+\"\\n\")"
   ]
  },
  {
   "cell_type": "code",
   "execution_count": 3,
   "id": "d8b52ebc",
   "metadata": {},
   "outputs": [
    {
     "data": {
      "application/vnd.jupyter.widget-view+json": {
       "model_id": "9a82254eabf246b997d3fa769199ccf2",
       "version_major": 2,
       "version_minor": 0
      },
      "text/plain": [
       "  0%|          | 0/360 [00:00<?, ?it/s]"
      ]
     },
     "metadata": {},
     "output_type": "display_data"
    }
   ],
   "source": [
    "with open(\"4.txt\",\"w\") as fp:\n",
    "    for i in tqdm(range(1,361)):\n",
    "        url  = \"https://www.englishtools.org/ja/find-english-words-by-length/any/4/{0}\".format(i)\n",
    "        df = pd.read_html(requests.get(url).text)[0]\n",
    "        for word in set(df[\"Word\"]):\n",
    "            if word is np.nan:\n",
    "                continue\n",
    "            fp.write(word+\"\\n\")"
   ]
  },
  {
   "cell_type": "code",
   "execution_count": 4,
   "id": "3b26afdf",
   "metadata": {},
   "outputs": [
    {
     "data": {
      "application/vnd.jupyter.widget-view+json": {
       "model_id": "a15d03f1545b43e592b21845b4057423",
       "version_major": 2,
       "version_minor": 0
      },
      "text/plain": [
       "  0%|          | 0/2294 [00:00<?, ?it/s]"
      ]
     },
     "metadata": {},
     "output_type": "display_data"
    }
   ],
   "source": [
    "with open(\"10.txt\",\"w\") as fp:\n",
    "    for i in tqdm(range(1,2295)):\n",
    "        url  = \"https://www.englishtools.org/ja/find-english-words-by-length/any/10/{0}\".format(i)\n",
    "        df = pd.read_html(requests.get(url).text)[0]\n",
    "        for word in set(df[\"Word\"]):\n",
    "            if word is np.nan:\n",
    "                continue\n",
    "            fp.write(word+\"\\n\")"
   ]
  },
  {
   "cell_type": "code",
   "execution_count": null,
   "id": "ff220a2b",
   "metadata": {},
   "outputs": [],
   "source": []
  }
 ],
 "metadata": {
  "kernelspec": {
   "display_name": "Python 3 (ipykernel)",
   "language": "python",
   "name": "python3"
  },
  "language_info": {
   "codemirror_mode": {
    "name": "ipython",
    "version": 3
   },
   "file_extension": ".py",
   "mimetype": "text/x-python",
   "name": "python",
   "nbconvert_exporter": "python",
   "pygments_lexer": "ipython3",
   "version": "3.10.1"
  }
 },
 "nbformat": 4,
 "nbformat_minor": 5
}
